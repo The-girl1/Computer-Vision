{
 "cells": [
  {
   "cell_type": "code",
   "execution_count": 10,
   "metadata": {},
   "outputs": [],
   "source": [
    "import numpy as np\n",
    "import cv2"
   ]
  },
  {
   "cell_type": "code",
   "execution_count": 13,
   "metadata": {},
   "outputs": [],
   "source": [
    "cap = cv2.VideoCapture(0)\n",
    "bkg = 0\n",
    "for i in range(30):\n",
    "    _,bkg = cap.read()\n",
    "#bkg = np.flip(bkg , axis = 1)\n",
    "\n",
    "fourcc = cv2.VideoWriter_fourcc(*'XVID')\n",
    "fin = cv2.VideoWriter('fin.avi' , fourcc , 20.0 , (640 , 480))\n",
    "\n",
    "while True:\n",
    "    _,frame = cap.read()\n",
    "    hsv = cv2.cvtColor(frame , cv2.COLOR_BGR2HSV)\n",
    "    \n",
    "    lower_red = np.array([0,120,70])\n",
    "    upper_red = np.array([10 , 255 , 255])\n",
    "    mask = cv2.inRange(hsv , lower_red , upper_red)\n",
    "    \n",
    "    lower_red = np.array([170 , 120 , 70])\n",
    "    upper_red = np.array([180 , 255 , 255])\n",
    "    mask2 = cv2.inRange(hsv , lower_red , upper_red)\n",
    "    mask = mask + mask2\n",
    "    mask = cv2.morphologyEx(mask , cv2.MORPH_OPEN , np.ones((3 , 3) , np.uint8))\n",
    "    mask = cv2.morphologyEx(mask , cv2.MORPH_DILATE , np.ones((3 , 3) , np.uint8))\n",
    "    mask2 = cv2.bitwise_not(mask)\n",
    "    res = cv2.bitwise_and(frame , frame , mask = mask2)\n",
    "    res2 = cv2.bitwise_and(bkg , bkg , mask = mask)\n",
    "    final = cv2.addWeighted(res , 1 , res2 , 1 , 0)\n",
    "    \n",
    "    fin.write(final)\n",
    "    cv2.imshow('final' , final)\n",
    "    #cv2.imshow('res' , res)\n",
    "    #cv2.imshow('res2' , res2)\n",
    "    #cv2.imshow('mask' , mask)\n",
    "    if cv2.waitKey(5) & 0xFF == ord('q'):\n",
    "        break\n",
    "        \n",
    "cv2.destroyAllWindows()\n",
    "cap.release()"
   ]
  },
  {
   "cell_type": "code",
   "execution_count": null,
   "metadata": {},
   "outputs": [],
   "source": []
  }
 ],
 "metadata": {
  "kernelspec": {
   "display_name": "Python 3",
   "language": "python",
   "name": "python3"
  },
  "language_info": {
   "codemirror_mode": {
    "name": "ipython",
    "version": 3
   },
   "file_extension": ".py",
   "mimetype": "text/x-python",
   "name": "python",
   "nbconvert_exporter": "python",
   "pygments_lexer": "ipython3",
   "version": "3.6.5"
  }
 },
 "nbformat": 4,
 "nbformat_minor": 2
}
