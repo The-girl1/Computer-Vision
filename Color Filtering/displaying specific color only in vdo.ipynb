{
 "cells": [
  {
   "cell_type": "code",
   "execution_count": 1,
   "metadata": {},
   "outputs": [],
   "source": [
    "import numpy as np\n",
    "import cv2"
   ]
  },
  {
   "cell_type": "code",
   "execution_count": 2,
   "metadata": {},
   "outputs": [],
   "source": [
    "img = cv2.imread('new.jpg' , cv2.IMREAD_ANYCOLOR)\n",
    "cv2.imshow('img' , img)\n",
    "\n",
    "img_gray = cv2.cvtColor(img , cv2.COLOR_BGR2GRAY)\n",
    "ret , thresh_img = cv2.threshold(img_gray , 100 , 255 , cv2.THRESH_BINARY)\n",
    "cv2.imshow('thres' , thresh_img)\n",
    "\n",
    "cv2.waitKey(0)\n",
    "cv2.destroyAllWindows()"
   ]
  },
  {
   "cell_type": "code",
   "execution_count": 3,
   "metadata": {},
   "outputs": [],
   "source": [
    "#Adaptive threshhold\n",
    "thresh_adapt = cv2.adaptiveThreshold(img_gray , 255 , cv2.ADAPTIVE_THRESH_GAUSSIAN_C , cv2.THRESH_BINARY , 115 , 1)\n",
    "cv2.imshow('adaptive image' , thresh_adapt)\n",
    "\n",
    "cv2.waitKey(0)\n",
    "cv2.destroyAllWindows()"
   ]
  },
  {
   "cell_type": "code",
   "execution_count": 4,
   "metadata": {},
   "outputs": [],
   "source": [
    "#Otsu's thresh holding\n",
    "retval , thresh_otsu = cv2.threshold(img_gray , 120, 255 , cv2.THRESH_BINARY + cv2.THRESH_OTSU)\n",
    "cv2.imshow('otsu thresh hold image' , thresh_otsu)\n",
    "\n",
    "cv2.waitKey(0)\n",
    "cv2.destroyAllWindows()"
   ]
  },
  {
   "cell_type": "code",
   "execution_count": 5,
   "metadata": {},
   "outputs": [],
   "source": [
    "#image color filtering\n",
    "cap = cv2.VideoCapture(0)\n",
    "fourcc = cv2.VideoWriter_fourcc(*'XVID')\n",
    "out = cv2.VideoWriter('blue.avi' , fourcc , 20.0 , (640 , 480))\n",
    "\n",
    "while True:\n",
    "    _,frame = cap.read()\n",
    "    #cv2.imshow('frame' , frame)\n",
    "    hsv = cv2.cvtColor(frame , cv2.COLOR_BGR2HSV)\n",
    "    cv2.imwrite('hsv.png' , hsv)\n",
    "    #cv2.imshow('hsv' , hsv)\n",
    "\n",
    "    lower_blue = np.array([110 , 50 , 50])\n",
    "    upper_blue = np.array([130 , 255 , 255])\n",
    "    mask = cv2.inRange(hsv , lower_blue , upper_blue)\n",
    "    res = cv2.bitwise_and(frame , frame , mask = mask)\n",
    "    out.write(res)\n",
    "        \n",
    "    cv2.imshow('frame' , frame)\n",
    "    cv2.imshow('mask' , mask)\n",
    "    cv2.imshow('res' , res)\n",
    "    \n",
    "    if cv2.waitKey(5) & 0xFF == ord('q'):\n",
    "        break;\n",
    "        \n",
    "\n",
    "cv2.destroyAllWindows()\n",
    "cap.release()"
   ]
  },
  {
   "cell_type": "code",
   "execution_count": 7,
   "metadata": {},
   "outputs": [],
   "source": [
    "#smoothening the vdo\n",
    "#image color filtering\n",
    "cap = cv2.VideoCapture(0)\n",
    "\n",
    "while True:\n",
    "    _,frame = cap.read()\n",
    "    #cv2.imshow('frame' , frame)\n",
    "    hsv = cv2.cvtColor(frame , cv2.COLOR_BGR2HSV)\n",
    "    cv2.imwrite('hsv.png' , hsv)\n",
    "    #cv2.imshow('hsv' , hsv)\n",
    "\n",
    "    lower_blue = np.array([110 , 50 , 50])\n",
    "    upper_blue = np.array([130 , 255 , 255])\n",
    "    mask = cv2.inRange(hsv , lower_blue , upper_blue)\n",
    "    res = cv2.bitwise_and(frame , frame , mask = mask)\n",
    "    \n",
    "    kernel = np.ones((15 , 15) , np.float32) / 225\n",
    "    smooth_vdo = cv2.filter2D(res , -1 , kernel)\n",
    "    \n",
    "    blur = cv2.GaussianBlur(res , (15 , 15) , 0)\n",
    "    \n",
    "    median = cv2.medianBlur(res , 15)\n",
    "    \n",
    "    bilateral = cv2.bilateralFilter(res , 15 , 75 , 75)\n",
    "        \n",
    "    #cv2.imshow('frame' , frame)\n",
    "    #cv2.imshow('mask' , mask)\n",
    "    cv2.imshow('res' , res)\n",
    "    cv2.imshow('smooth_vdo' , smooth_vdo)\n",
    "    cv2.imshow('blur' , blur)\n",
    "    cv2.imshow('median' , median)\n",
    "    cv2.imshow('bilateral' , bilateral)\n",
    "    \n",
    "    if cv2.waitKey(5) & 0xFF == ord('q'):\n",
    "        break;\n",
    "        \n",
    "\n",
    "cv2.destroyAllWindows()\n",
    "cap.release()"
   ]
  },
  {
   "cell_type": "code",
   "execution_count": 6,
   "metadata": {},
   "outputs": [],
   "source": [
    "#morphological transformations\n",
    "cap = cv2.VideoCapture(0)\n",
    "\n",
    "while True:\n",
    "    _,frame = cap.read()\n",
    "    hsv = cv2.cvtColor(frame , cv2.COLOR_BGR2HSV)\n",
    "    mask = cv2.inRange(hsv , lower_blue , upper_blue)\n",
    "    res = cv2.bitwise_and(frame , frame , mask = mask)\n",
    "    \n",
    "    kernel = np.array((15 , 15) , np.uint8)\n",
    "    erosion = cv2.erode(mask , kernel , iterations = 1)\n",
    "    dilation = cv2.dilate(mask , kernel ,iterations = 1)\n",
    "    opening = cv2.morphologyEx(mask , cv2.MORPH_OPEN , kernel)\n",
    "    closing = cv2.morphologyEx(mask , cv2.MORPH_CLOSE , kernel)\n",
    "    tophat = cv2.morphologyEx(mask , cv2.MORPH_TOPHAT , kernel) # diff bw opening nd original image(here original img is mask)\n",
    "    blackhat = cv2.morphologyEx(mask , cv2.MORPH_BLACKHAT , kernel) # diff bw closing and original img\n",
    "    \n",
    "    cv2.imshow('tophat' , tophat)\n",
    "    cv2.imshow('blackhat' , blackhat)\n",
    "    cv2.imshow('opening' , opening)\n",
    "    cv2.imshow('closing' , closing)\n",
    "    cv2.imshow('dilation' , dilation)\n",
    "    cv2.imshow('mask' , mask)\n",
    "    cv2.imshow('frame' , frame)\n",
    "    cv2.imshow('erosion' , erosion)\n",
    "    \n",
    "    if cv2.waitKey(5) & 0xFF == ord('q'):\n",
    "        break;\n",
    "        \n",
    "\n",
    "cv2.destroyAllWindows()\n",
    "cap.release()"
   ]
  },
  {
   "cell_type": "code",
   "execution_count": 7,
   "metadata": {},
   "outputs": [],
   "source": [
    "cap = cv2.VideoCapture(0)\n",
    "\n",
    "while True:\n",
    "    _,frame = cap.read()\n",
    "    hsv = cv2.cvtColor(frame , cv2.COLOR_BGR2HSV)\n",
    "    laplacian = cv2.Laplacian(frame , cv2.CV_64F)\n",
    "    sobelx = cv2.Sobel(frame , cv2.CV_64F , 1 , 0 , ksize = 5)\n",
    "    sobely = cv2.Sobel(frame , cv2.CV_64F , 0 , 1 , ksize = 5)\n",
    "    \n",
    "    cv2.imshow('sobelx' , sobelx)\n",
    "    cv2.imshow('sobely' , sobely)\n",
    "    cv2.imshow('img', frame)\n",
    "    cv2.imshow('laplace' , laplacian)\n",
    "    if cv2.waitKey(5) & 0xFF == ord('q'):\n",
    "        break\n",
    "cap.release()\n",
    "cv2.destroyAllWindows()"
   ]
  },
  {
   "cell_type": "code",
   "execution_count": 13,
   "metadata": {},
   "outputs": [],
   "source": [
    "#edge detector\n",
    "cap = cv2.VideoCapture(0)\n",
    "while True:\n",
    "    _,frame = cap.read()\n",
    "    edge = cv2.Canny(frame , 100 , 200)\n",
    "    \n",
    "    cv2.imshow('img' , frame)\n",
    "    cv2.imshow('edged' , edge)\n",
    "    \n",
    "    if cv2.waitKey(5) & 0xFF == ord('q'):\n",
    "        break\n",
    "\n",
    "cap.release()\n",
    "cv2.destroyAllWindows()"
   ]
  },
  {
   "cell_type": "code",
   "execution_count": null,
   "metadata": {},
   "outputs": [],
   "source": []
  }
 ],
 "metadata": {
  "kernelspec": {
   "display_name": "Python 3",
   "language": "python",
   "name": "python3"
  },
  "language_info": {
   "codemirror_mode": {
    "name": "ipython",
    "version": 3
   },
   "file_extension": ".py",
   "mimetype": "text/x-python",
   "name": "python",
   "nbconvert_exporter": "python",
   "pygments_lexer": "ipython3",
   "version": "3.6.5"
  }
 },
 "nbformat": 4,
 "nbformat_minor": 2
}
