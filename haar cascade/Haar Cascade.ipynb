{
 "cells": [
  {
   "cell_type": "code",
   "execution_count": 1,
   "metadata": {},
   "outputs": [],
   "source": [
    "import numpy as np\n",
    "import cv2"
   ]
  },
  {
   "cell_type": "code",
   "execution_count": 2,
   "metadata": {},
   "outputs": [],
   "source": [
    "face_cascade = cv2.CascadeClassifier('haarcascade_frontalface_default.xml')\n",
    "eye_cascade = cv2.CascadeClassifier('haarcascade_eye.xml')"
   ]
  },
  {
   "cell_type": "code",
   "execution_count": 3,
   "metadata": {},
   "outputs": [],
   "source": [
    "img = cv2.imread('aa.jpg' , cv2.IMREAD_COLOR)\n",
    "gray = cv2.cvtColor(img , cv2.COLOR_BGR2GRAY)\n",
    "\n",
    "facess = face_cascade.detectMultiScale(gray , 1.3 , 5)\n",
    "for (x , y , w , h) in facess:\n",
    "    cv2.rectangle(img , (x , y) , (x + w , y + h) , (255 , 0 , 0) , 2)\n",
    "    roi_gray = gray[y:y+h , x:x+w]\n",
    "    roi_img = img[y:y+h , x:x+w]\n",
    "    eyes = eye_cascade.detectMultiScale(roi_gray , 1.3 , 5)\n",
    "    for (ex , ey , ew , eh) in eyes:\n",
    "        cv2.rectangle(roi_img , (ex , ey) , (ex + ew , ey + eh) , (0 , 255 , 0) , 2)\n",
    "\n",
    "cv2.imshow('img' , img)\n",
    "cv2.waitKey(0)\n",
    "cv2.destroyAllWindows()\n",
    "    "
   ]
  },
  {
   "cell_type": "code",
   "execution_count": 4,
   "metadata": {},
   "outputs": [
    {
     "ename": "KeyboardInterrupt",
     "evalue": "",
     "output_type": "error",
     "traceback": [
      "\u001b[1;31m---------------------------------------------------------------------------\u001b[0m",
      "\u001b[1;31mKeyboardInterrupt\u001b[0m                         Traceback (most recent call last)",
      "\u001b[1;32m<ipython-input-4-ff978c9650ef>\u001b[0m in \u001b[0;36m<module>\u001b[1;34m()\u001b[0m\n\u001b[0;32m     17\u001b[0m \u001b[1;33m\u001b[0m\u001b[0m\n\u001b[0;32m     18\u001b[0m         \u001b[0mout\u001b[0m\u001b[1;33m.\u001b[0m\u001b[0mwrite\u001b[0m\u001b[1;33m(\u001b[0m\u001b[0mimg\u001b[0m\u001b[1;33m)\u001b[0m\u001b[1;33m;\u001b[0m\u001b[1;33m\u001b[0m\u001b[0m\n\u001b[1;32m---> 19\u001b[1;33m         \u001b[0mk\u001b[0m \u001b[1;33m=\u001b[0m \u001b[0mcv2\u001b[0m\u001b[1;33m.\u001b[0m\u001b[0mwaitKey\u001b[0m\u001b[1;33m(\u001b[0m\u001b[1;36m30\u001b[0m\u001b[1;33m)\u001b[0m \u001b[1;33m&\u001b[0m \u001b[1;36m0xff\u001b[0m\u001b[1;33m\u001b[0m\u001b[0m\n\u001b[0m\u001b[0;32m     20\u001b[0m \u001b[1;33m\u001b[0m\u001b[0m\n\u001b[0;32m     21\u001b[0m         \u001b[1;32mif\u001b[0m \u001b[0mk\u001b[0m \u001b[1;33m==\u001b[0m \u001b[1;36m27\u001b[0m\u001b[1;33m:\u001b[0m\u001b[1;33m\u001b[0m\u001b[0m\n",
      "\u001b[1;31mKeyboardInterrupt\u001b[0m: "
     ]
    }
   ],
   "source": [
    "cap = cv2.VideoCapture(0)\n",
    "fourcc = cv2.VideoWriter_fourcc(*'XVID')\n",
    "out = cv2.VideoWriter('detect.avi' , fourcc , 20.0 , (640 , 480))\n",
    "\n",
    "while True:\n",
    "    ret , img = cap.read()\n",
    "    gray = cv2.cvtColor(img , cv2.COLOR_BGR2GRAY)\n",
    "    faces = face_cascade.detectMultiScale(gray , 1.3 , 5)\n",
    "    for (x , y , w , h) in faces:\n",
    "        cv2.rectangle(img , (x , y) , (x + w , y + h) , (255 , 0 , 0) , 2)\n",
    "        roi_img = img[y:y + h , x : x + w]\n",
    "        roi_gray = gray[y: y + h , x : x + w]\n",
    "        eyes = eye_cascade.detectMultiScale(roi_gray , 1.3 , 5)\n",
    "        for (ex , ey , ew , eh) in eyes:\n",
    "            cv2.rectangle(roi_img , (ex , ey) , (ex + ew , ey + eh) , (0 , 255 , 0) , 2)\n",
    "        cv2.imshow('img' , img)\n",
    "        \n",
    "        out.write(img);\n",
    "        k = cv2.waitKey(30) & 0xff\n",
    "        \n",
    "        if k == 27:\n",
    "            break\n",
    "\n",
    "cap.release()            \n",
    "cv2.destroyAllWindows()\n"
   ]
  },
  {
   "cell_type": "code",
   "execution_count": null,
   "metadata": {},
   "outputs": [],
   "source": [
    "cap.release()"
   ]
  },
  {
   "cell_type": "code",
   "execution_count": null,
   "metadata": {},
   "outputs": [],
   "source": []
  }
 ],
 "metadata": {
  "kernelspec": {
   "display_name": "Python 3",
   "language": "python",
   "name": "python3"
  },
  "language_info": {
   "codemirror_mode": {
    "name": "ipython",
    "version": 3
   },
   "file_extension": ".py",
   "mimetype": "text/x-python",
   "name": "python",
   "nbconvert_exporter": "python",
   "pygments_lexer": "ipython3",
   "version": "3.6.5"
  }
 },
 "nbformat": 4,
 "nbformat_minor": 2
}
