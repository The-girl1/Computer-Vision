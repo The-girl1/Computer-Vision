{
 "cells": [
  {
   "cell_type": "code",
   "execution_count": 1,
   "metadata": {},
   "outputs": [
    {
     "name": "stderr",
     "output_type": "stream",
     "text": [
      "C:\\Users\\Anjali\\Anaconda3\\lib\\site-packages\\h5py\\__init__.py:36: FutureWarning: Conversion of the second argument of issubdtype from `float` to `np.floating` is deprecated. In future, it will be treated as `np.float64 == np.dtype(float).type`.\n",
      "  from ._conv import register_converters as _register_converters\n"
     ]
    }
   ],
   "source": [
    "import numpy as np\n",
    "import cv2\n",
    "import tensorflow"
   ]
  },
  {
   "cell_type": "code",
   "execution_count": 2,
   "metadata": {},
   "outputs": [],
   "source": [
    "import imutils"
   ]
  },
  {
   "cell_type": "code",
   "execution_count": 3,
   "metadata": {},
   "outputs": [],
   "source": [
    "modelFile = \"res10_300x300_ssd_iter_140000.caffemodel\"\n",
    "configFile = \"deploy.prototxt\"\n",
    "net = cv2.dnn.readNetFromCaffe(configFile, modelFile)\n"
   ]
  },
  {
   "cell_type": "code",
   "execution_count": 4,
   "metadata": {},
   "outputs": [],
   "source": [
    "cap = cv2.VideoCapture(0)\n",
    "\n",
    "while True:\n",
    "    _,img = cap.read()\n",
    "    \n",
    "    img = imutils.resize(img , width = 800 , height= 800 , inter = 3)\n",
    "    (h , w) = img.shape[:2]\n",
    "    blob = cv2.dnn.blobFromImage(cv2.resize(img , (300 , 300)) , 1.0 , (300 , 300) , (104.0, 177.0, 123.0))\n",
    "    \n",
    "    net.setInput(blob)\n",
    "    detections = net.forward()\n",
    "    \n",
    "    conf_threshold = 0.5\n",
    "    for i in range (detections.shape[2]):\n",
    "        confidence = detections[0 , 0 , i , 2]\n",
    "        if confidence < conf_threshold:\n",
    "            continue\n",
    "        x1 = int(detections[0 , 0 , i , 3] * w)\n",
    "        y1 = int(detections[0 , 0 , i , 4] * h)\n",
    "        x2 = int(detections[0 , 0 , i , 5] * w)\n",
    "        y2 = int(detections[0 , 0 , i , 6] * h)\n",
    "        \n",
    "        text = \"{:.2f}%\".format(confidence * 100)\n",
    "        if y1 - 10 > 10:\n",
    "            y = y1 - 10\n",
    "        else:\n",
    "            y = y1 + 10;\n",
    "        cv2.rectangle(img , (x1 , y1) , (x2 , y2) , (255 , 0 , 0) , 2)\n",
    "        cv2.putText(img , text , (x1 , y) , cv2.FONT_HERSHEY_SIMPLEX , 0.45 , (0 , 255 , 0) , 2)\n",
    "        cv2.imshow('result' , img)\n",
    "    \n",
    "    if cv2.waitKey(5) & 0xFF == ord('q'):\n",
    "        break\n",
    "\n",
    "cv2.destroyAllWindows()\n",
    "cap.release()"
   ]
  },
  {
   "cell_type": "code",
   "execution_count": 5,
   "metadata": {},
   "outputs": [],
   "source": [
    "cap.release()"
   ]
  },
  {
   "cell_type": "code",
   "execution_count": null,
   "metadata": {},
   "outputs": [],
   "source": []
  }
 ],
 "metadata": {
  "kernelspec": {
   "display_name": "Python 3",
   "language": "python",
   "name": "python3"
  },
  "language_info": {
   "codemirror_mode": {
    "name": "ipython",
    "version": 3
   },
   "file_extension": ".py",
   "mimetype": "text/x-python",
   "name": "python",
   "nbconvert_exporter": "python",
   "pygments_lexer": "ipython3",
   "version": "3.6.5"
  }
 },
 "nbformat": 4,
 "nbformat_minor": 2
}
